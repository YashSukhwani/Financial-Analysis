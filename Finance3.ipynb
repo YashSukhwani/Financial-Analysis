{
 "metadata": {
  "language_info": {
   "codemirror_mode": {
    "name": "ipython",
    "version": 3
   },
   "file_extension": ".py",
   "mimetype": "text/x-python",
   "name": "python",
   "nbconvert_exporter": "python",
   "pygments_lexer": "ipython3",
   "version": "3.7.7-final"
  },
  "orig_nbformat": 2,
  "kernelspec": {
   "name": "python3",
   "display_name": "Python 3"
  }
 },
 "nbformat": 4,
 "nbformat_minor": 2,
 "cells": [
  {
   "cell_type": "code",
   "execution_count": 7,
   "metadata": {},
   "outputs": [],
   "source": [
    "from collections import Counter\n",
    "import numpy as np\n",
    "import pandas as pd\n",
    "import pickle"
   ]
  },
  {
   "cell_type": "code",
   "execution_count": 5,
   "metadata": {},
   "outputs": [],
   "source": [
    "def processData(ticker):\n",
    "    days = 7\n",
    "    df = pd.read_csv('NASDAQ_JoinedCloses.csv', index_col=0)\n",
    "    tickers = df.columns.values.tolist()\n",
    "    df.fillna(0, inplace=True)\n",
    "\n",
    "    for i in range(1, days + 1):\n",
    "        df['{}_{}'.format(ticker, i)] = (df[ticker.shift(-i)] - df[ticker]) / df[ticker]\n",
    "\n",
    "    df.fillna(0, inplace=True)\n",
    "    return tickers, df"
   ]
  },
  {
   "cell_type": "code",
   "execution_count": 6,
   "metadata": {},
   "outputs": [],
   "source": [
    "def actionDecision(*args): # *args allows taking any number of arguments\n",
    "    cols = [c for c in args]\n",
    "    required = 0.02 # stock price changing by 2%\n",
    "\n",
    "    for col in cols:\n",
    "        if col > required:\n",
    "            return 1 # indicates buy position\n",
    "        if col < -required:\n",
    "            return -1 # indicates sell position\n",
    "        return 0 # indicates hold position"
   ]
  },
  {
   "cell_type": "code",
   "execution_count": null,
   "metadata": {},
   "outputs": [],
   "source": [
    "def extractFeatures(ticker):\n",
    "    tickers, df = processData(ticker)\n",
    "    df['{}_target'.format(ticker)] = list(map(actionDecision, \n",
    "    df['{}_1d'.format(ticker)], \n",
    "    df['{}_2d'.format(ticker)],\n",
    "    df['{}_3d'.format(ticker)],\n",
    "    df['{}_4d'.format(ticker)],\n",
    "    df['{}_5d'.format(ticker)],\n",
    "    df['{}_6d'.format(ticker)],\n",
    "    df['{}_7d'.format(ticker)]\n",
    "    ))\n",
    "\n",
    "    vals = df['{}_target'.format(ticker)].values.tolist()\n",
    "    str_vals = [str(i) for i in vals]\n",
    "    print('Data Spread:', Counter(str_vals))\n",
    "    df.fillna(0, inplace=True)\n",
    "    df = df.replace([np.inf, -np.inf], np.nan)\n",
    "    df.dropna(inplace=True)\n",
    "\n",
    "    df_vals = df[[ticker for ticker in tickers]].pct_change()\n",
    "    df_vals = df_vals.replace([np.inf, -np.inf], 0)\n",
    "    df.fillna(0, inplace=True)\n",
    "\n",
    "    X = df_vals.values\n",
    "    y = df['{}_target'.format(ticker)].values\n",
    "\n",
    "    return X, y, df"
   ]
  }
 ]
}